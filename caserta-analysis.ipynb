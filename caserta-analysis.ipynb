{
 "cells": [
  {
   "cell_type": "code",
   "execution_count": 8,
   "metadata": {
    "collapsed": false
   },
   "outputs": [
    {
     "data": {
      "text/html": [
       "\n",
       "    <div class=\"bqtv\" id=\"4_152334418622\"><table><tr><th>id</th><th>name</th><th>symbol</th><th>rank</th><th>price_usd</th><th>price_btc</th><th>_24h_volume_usd</th><th>market_cap_usd</th><th>available_supply</th><th>total_supply</th><th>max_supply</th><th>percent_change_1h</th><th>percent_change_24h</th><th>percent_change_7d</th><th>last_updated</th></tr><tr><td>datacoin</td><td>Datacoin</td><td>DTC</td><td>1059</td><td>0.00819157</td><td>1.15e-06</td><td>15.2527</td><td>252868.0</td><td>30869285.0</td><td>30869285.0</td><td>&nbsp;</td><td>0.33</td><td>2.56</td><td>-28.58</td><td>1523258371</td></tr><tr><td>p7coin</td><td>P7Coin</td><td>P7C</td><td>1262</td><td>0.000270154</td><td>4e-08</td><td>&nbsp;</td><td>9515.0</td><td>35220238.0</td><td>35220238.0</td><td>&nbsp;</td><td>&nbsp;</td><td>&nbsp;</td><td>-3.33</td><td>1522913044</td></tr></table></div>\n",
       "    <br />(rows: 2, time: 1.0s,   175KB processed, job: job_H0fyde1Q3UbBYXcicOBz8yQuOypV)<br />\n",
       "    <script src=\"/static/components/requirejs/require.js\"></script>\n",
       "    <script>\n",
       "      require.config({\n",
       "        paths: {\n",
       "          base: '/static/base',\n",
       "          d3: '//cdnjs.cloudflare.com/ajax/libs/d3/3.4.13/d3',\n",
       "          plotly: 'https://cdn.plot.ly/plotly-1.5.1.min.js?noext',\n",
       "          jquery: '//ajax.googleapis.com/ajax/libs/jquery/2.0.0/jquery.min'\n",
       "        },\n",
       "        map: {\n",
       "          '*': {\n",
       "            datalab: 'nbextensions/gcpdatalab'\n",
       "          }\n",
       "        },\n",
       "        shim: {\n",
       "          plotly: {\n",
       "            deps: ['d3', 'jquery'],\n",
       "            exports: 'plotly'\n",
       "          }\n",
       "        }\n",
       "      });\n",
       "\n",
       "      require(['datalab/charting', 'datalab/element!4_152334418622', 'base/js/events',\n",
       "          'datalab/style!/nbextensions/gcpdatalab/charting.css'],\n",
       "        function(charts, dom, events) {\n",
       "          charts.render('gcharts', dom, events, 'table', [], {\"cols\": [{\"label\": \"id\", \"type\": \"string\", \"id\": \"id\"}, {\"label\": \"name\", \"type\": \"string\", \"id\": \"name\"}, {\"label\": \"symbol\", \"type\": \"string\", \"id\": \"symbol\"}, {\"label\": \"rank\", \"type\": \"number\", \"id\": \"rank\"}, {\"label\": \"price_usd\", \"type\": \"number\", \"id\": \"price_usd\"}, {\"label\": \"price_btc\", \"type\": \"number\", \"id\": \"price_btc\"}, {\"label\": \"_24h_volume_usd\", \"type\": \"number\", \"id\": \"_24h_volume_usd\"}, {\"label\": \"market_cap_usd\", \"type\": \"number\", \"id\": \"market_cap_usd\"}, {\"label\": \"available_supply\", \"type\": \"number\", \"id\": \"available_supply\"}, {\"label\": \"total_supply\", \"type\": \"number\", \"id\": \"total_supply\"}, {\"label\": \"max_supply\", \"type\": \"number\", \"id\": \"max_supply\"}, {\"label\": \"percent_change_1h\", \"type\": \"number\", \"id\": \"percent_change_1h\"}, {\"label\": \"percent_change_24h\", \"type\": \"number\", \"id\": \"percent_change_24h\"}, {\"label\": \"percent_change_7d\", \"type\": \"number\", \"id\": \"percent_change_7d\"}, {\"label\": \"last_updated\", \"type\": \"number\", \"id\": \"last_updated\"}], \"rows\": [{\"c\": [{\"v\": \"datacoin\"}, {\"v\": \"Datacoin\"}, {\"v\": \"DTC\"}, {\"v\": 1059}, {\"v\": 0.00819157}, {\"v\": 1.15e-06}, {\"v\": 15.2527}, {\"v\": 252868.0}, {\"v\": 30869285.0}, {\"v\": 30869285.0}, {\"v\": null}, {\"v\": 0.33}, {\"v\": 2.56}, {\"v\": -28.58}, {\"v\": 1523258371}]}, {\"c\": [{\"v\": \"p7coin\"}, {\"v\": \"P7Coin\"}, {\"v\": \"P7C\"}, {\"v\": 1262}, {\"v\": 0.000270154}, {\"v\": 4e-08}, {\"v\": null}, {\"v\": 9515.0}, {\"v\": 35220238.0}, {\"v\": 35220238.0}, {\"v\": null}, {\"v\": null}, {\"v\": null}, {\"v\": -3.33}, {\"v\": 1522913044}]}]},\n",
       "            {\n",
       "              pageSize: 25,\n",
       "              cssClassNames:  {\n",
       "                tableRow: 'gchart-table-row',\n",
       "                headerRow: 'gchart-table-headerrow',\n",
       "                oddTableRow: 'gchart-table-oddrow',\n",
       "                selectedTableRow: 'gchart-table-selectedrow',\n",
       "                hoverTableRow: 'gchart-table-hoverrow',\n",
       "                tableCell: 'gchart-table-cell',\n",
       "                headerCell: 'gchart-table-headercell',\n",
       "                rowNumberCell: 'gchart-table-rownumcell'\n",
       "              }\n",
       "            },\n",
       "            {source_index: 3, fields: 'id,name,symbol,rank,price_usd,price_btc,_24h_volume_usd,market_cap_usd,available_supply,total_supply,max_supply,percent_change_1h,percent_change_24h,percent_change_7d,last_updated'},\n",
       "            0,\n",
       "            2);\n",
       "        }\n",
       "      );\n",
       "    </script>\n",
       "  "
      ],
      "text/plain": [
       "QueryResultsTable job_H0fyde1Q3UbBYXcicOBz8yQuOypV"
      ]
     },
     "execution_count": 8,
     "metadata": {},
     "output_type": "execute_result"
    }
   ],
   "source": [
    "%%bq query\n",
    "-- Sample select query\n",
    "select * from caserta_crypto_store .crypto_store limit 2;"
   ]
  },
  {
   "cell_type": "code",
   "execution_count": 10,
   "metadata": {
    "collapsed": false
   },
   "outputs": [
    {
     "data": {
      "text/html": [
       "\n",
       "    <div class=\"bqtv\" id=\"6_152334425507\"><table><tr><th>name</th><th>price_usd</th></tr><tr><td>42-coin</td><td>23043.8</td></tr><tr><td>Project-X</td><td>104895.0</td></tr><tr><td>Bit20</td><td>250813.0</td></tr></table></div>\n",
       "    <br />(rows: 3, time: 1.6s,    29KB processed, job: job_Cx5r3QqGHqEJ1xhgTfKIvLyUXhOm)<br />\n",
       "    <script src=\"/static/components/requirejs/require.js\"></script>\n",
       "    <script>\n",
       "      require.config({\n",
       "        paths: {\n",
       "          base: '/static/base',\n",
       "          d3: '//cdnjs.cloudflare.com/ajax/libs/d3/3.4.13/d3',\n",
       "          plotly: 'https://cdn.plot.ly/plotly-1.5.1.min.js?noext',\n",
       "          jquery: '//ajax.googleapis.com/ajax/libs/jquery/2.0.0/jquery.min'\n",
       "        },\n",
       "        map: {\n",
       "          '*': {\n",
       "            datalab: 'nbextensions/gcpdatalab'\n",
       "          }\n",
       "        },\n",
       "        shim: {\n",
       "          plotly: {\n",
       "            deps: ['d3', 'jquery'],\n",
       "            exports: 'plotly'\n",
       "          }\n",
       "        }\n",
       "      });\n",
       "\n",
       "      require(['datalab/charting', 'datalab/element!6_152334425507', 'base/js/events',\n",
       "          'datalab/style!/nbextensions/gcpdatalab/charting.css'],\n",
       "        function(charts, dom, events) {\n",
       "          charts.render('gcharts', dom, events, 'table', [], {\"cols\": [{\"label\": \"name\", \"type\": \"string\", \"id\": \"name\"}, {\"label\": \"price_usd\", \"type\": \"number\", \"id\": \"price_usd\"}], \"rows\": [{\"c\": [{\"v\": \"42-coin\"}, {\"v\": 23043.8}]}, {\"c\": [{\"v\": \"Project-X\"}, {\"v\": 104895.0}]}, {\"c\": [{\"v\": \"Bit20\"}, {\"v\": 250813.0}]}]},\n",
       "            {\n",
       "              pageSize: 25,\n",
       "              cssClassNames:  {\n",
       "                tableRow: 'gchart-table-row',\n",
       "                headerRow: 'gchart-table-headerrow',\n",
       "                oddTableRow: 'gchart-table-oddrow',\n",
       "                selectedTableRow: 'gchart-table-selectedrow',\n",
       "                hoverTableRow: 'gchart-table-hoverrow',\n",
       "                tableCell: 'gchart-table-cell',\n",
       "                headerCell: 'gchart-table-headercell',\n",
       "                rowNumberCell: 'gchart-table-rownumcell'\n",
       "              }\n",
       "            },\n",
       "            {source_index: 5, fields: 'name,price_usd'},\n",
       "            0,\n",
       "            3);\n",
       "        }\n",
       "      );\n",
       "    </script>\n",
       "  "
      ],
      "text/plain": [
       "QueryResultsTable job_Cx5r3QqGHqEJ1xhgTfKIvLyUXhOm"
      ]
     },
     "execution_count": 10,
     "metadata": {},
     "output_type": "execute_result"
    }
   ],
   "source": [
    "%%bq query\n",
    "-- 1.\tHow many coins have a USD price greater than $8,000?\n",
    "select name, price_usd from caserta_crypto_store.crypto_store where price_usd > 8000;"
   ]
  },
  {
   "cell_type": "code",
   "execution_count": 18,
   "metadata": {
    "collapsed": false
   },
   "outputs": [
    {
     "data": {
      "text/html": [
       "\n",
       "    <div class=\"bqtv\" id=\"11_152334478642\"><table><tr><th>total_market_cap</th></tr><tr><td>259779656920.0</td></tr></table></div>\n",
       "    <br />(rows: 1, time: 1.0s,    10KB processed, job: job_Uyen_nlIBHCdykd3hZ9YYEsPrDkV)<br />\n",
       "    <script src=\"/static/components/requirejs/require.js\"></script>\n",
       "    <script>\n",
       "      require.config({\n",
       "        paths: {\n",
       "          base: '/static/base',\n",
       "          d3: '//cdnjs.cloudflare.com/ajax/libs/d3/3.4.13/d3',\n",
       "          plotly: 'https://cdn.plot.ly/plotly-1.5.1.min.js?noext',\n",
       "          jquery: '//ajax.googleapis.com/ajax/libs/jquery/2.0.0/jquery.min'\n",
       "        },\n",
       "        map: {\n",
       "          '*': {\n",
       "            datalab: 'nbextensions/gcpdatalab'\n",
       "          }\n",
       "        },\n",
       "        shim: {\n",
       "          plotly: {\n",
       "            deps: ['d3', 'jquery'],\n",
       "            exports: 'plotly'\n",
       "          }\n",
       "        }\n",
       "      });\n",
       "\n",
       "      require(['datalab/charting', 'datalab/element!11_152334478642', 'base/js/events',\n",
       "          'datalab/style!/nbextensions/gcpdatalab/charting.css'],\n",
       "        function(charts, dom, events) {\n",
       "          charts.render('gcharts', dom, events, 'table', [], {\"cols\": [{\"label\": \"total_market_cap\", \"type\": \"number\", \"id\": \"total_market_cap\"}], \"rows\": [{\"c\": [{\"v\": 259779656920.0}]}]},\n",
       "            {\n",
       "              pageSize: 25,\n",
       "              cssClassNames:  {\n",
       "                tableRow: 'gchart-table-row',\n",
       "                headerRow: 'gchart-table-headerrow',\n",
       "                oddTableRow: 'gchart-table-oddrow',\n",
       "                selectedTableRow: 'gchart-table-selectedrow',\n",
       "                hoverTableRow: 'gchart-table-hoverrow',\n",
       "                tableCell: 'gchart-table-cell',\n",
       "                headerCell: 'gchart-table-headercell',\n",
       "                rowNumberCell: 'gchart-table-rownumcell'\n",
       "              }\n",
       "            },\n",
       "            {source_index: 10, fields: 'total_market_cap'},\n",
       "            0,\n",
       "            1);\n",
       "        }\n",
       "      );\n",
       "    </script>\n",
       "  "
      ],
      "text/plain": [
       "QueryResultsTable job_Uyen_nlIBHCdykd3hZ9YYEsPrDkV"
      ]
     },
     "execution_count": 18,
     "metadata": {},
     "output_type": "execute_result"
    }
   ],
   "source": [
    "%%bq query\n",
    "-- 2.\tWhat is the total market cap of the top 100 cryptocurrencies (in USD)?\n",
    "select  sum(market_cap_usd) as total_market_cap from (select market_cap_usd from caserta_crypto_store.crypto_store order by market_cap_usd desc limit 100);"
   ]
  },
  {
   "cell_type": "code",
   "execution_count": 20,
   "metadata": {
    "collapsed": false
   },
   "outputs": [
    {
     "data": {
      "text/html": [
       "\n",
       "    <div class=\"bqtv\" id=\"13_152334489903\"><table><tr><th>total_such_coins</th></tr><tr><td>248</td></tr></table></div>\n",
       "    <br />(rows: 1, time: 1.1s,    10KB processed, job: job_bj-pdo3qhuPui67OhNAqub4tiJ9l)<br />\n",
       "    <script src=\"/static/components/requirejs/require.js\"></script>\n",
       "    <script>\n",
       "      require.config({\n",
       "        paths: {\n",
       "          base: '/static/base',\n",
       "          d3: '//cdnjs.cloudflare.com/ajax/libs/d3/3.4.13/d3',\n",
       "          plotly: 'https://cdn.plot.ly/plotly-1.5.1.min.js?noext',\n",
       "          jquery: '//ajax.googleapis.com/ajax/libs/jquery/2.0.0/jquery.min'\n",
       "        },\n",
       "        map: {\n",
       "          '*': {\n",
       "            datalab: 'nbextensions/gcpdatalab'\n",
       "          }\n",
       "        },\n",
       "        shim: {\n",
       "          plotly: {\n",
       "            deps: ['d3', 'jquery'],\n",
       "            exports: 'plotly'\n",
       "          }\n",
       "        }\n",
       "      });\n",
       "\n",
       "      require(['datalab/charting', 'datalab/element!13_152334489903', 'base/js/events',\n",
       "          'datalab/style!/nbextensions/gcpdatalab/charting.css'],\n",
       "        function(charts, dom, events) {\n",
       "          charts.render('gcharts', dom, events, 'table', [], {\"cols\": [{\"label\": \"total_such_coins\", \"type\": \"number\", \"id\": \"total_such_coins\"}], \"rows\": [{\"c\": [{\"v\": 248}]}]},\n",
       "            {\n",
       "              pageSize: 25,\n",
       "              cssClassNames:  {\n",
       "                tableRow: 'gchart-table-row',\n",
       "                headerRow: 'gchart-table-headerrow',\n",
       "                oddTableRow: 'gchart-table-oddrow',\n",
       "                selectedTableRow: 'gchart-table-selectedrow',\n",
       "                hoverTableRow: 'gchart-table-hoverrow',\n",
       "                tableCell: 'gchart-table-cell',\n",
       "                headerCell: 'gchart-table-headercell',\n",
       "                rowNumberCell: 'gchart-table-rownumcell'\n",
       "              }\n",
       "            },\n",
       "            {source_index: 12, fields: 'total_such_coins'},\n",
       "            0,\n",
       "            1);\n",
       "        }\n",
       "      );\n",
       "    </script>\n",
       "  "
      ],
      "text/plain": [
       "QueryResultsTable job_bj-pdo3qhuPui67OhNAqub4tiJ9l"
      ]
     },
     "execution_count": 20,
     "metadata": {},
     "output_type": "execute_result"
    }
   ],
   "source": [
    "%%bq query\n",
    "-- 3.\tWhich coins have an available supply less than $5M?\n",
    "select count(*) as total_such_coins from caserta_crypto_store.crypto_store where available_supply < 5000000;"
   ]
  },
  {
   "cell_type": "code",
   "execution_count": 19,
   "metadata": {
    "collapsed": false
   },
   "outputs": [
    {
     "data": {
      "text/html": [
       "\n",
       "    <div class=\"bqtv\" id=\"12_152334486617\"><table><tr><th>id</th><th>name</th></tr><tr><td>sydpak</td><td>SydPak</td></tr><tr><td>torcoin-tor</td><td>Torcoin</td></tr><tr><td>sixeleven</td><td>SixEleven</td></tr><tr><td>ccminer</td><td>CCMiner</td></tr><tr><td>giga-watt-token</td><td>Giga Watt Token</td></tr><tr><td>starcredits</td><td>StarCredits</td></tr><tr><td>triaconta</td><td>Triaconta</td></tr><tr><td>magnum</td><td>Magnum</td></tr><tr><td>zozocoin</td><td>ZoZoCoin</td></tr><tr><td>anoncoin</td><td>Anoncoin</td></tr><tr><td>bitgem</td><td>Bitgem</td></tr><tr><td>bullion</td><td>Bullion</td></tr><tr><td>novacoin</td><td>Novacoin</td></tr><tr><td>counterparty</td><td>Counterparty</td></tr><tr><td>elacoin</td><td>Elacoin</td></tr><tr><td>unobtanium</td><td>Unobtanium</td></tr><tr><td>mincoin</td><td>Mincoin</td></tr><tr><td>ronpaulcoin</td><td>RonPaulCoin</td></tr><tr><td>42-coin</td><td>42-coin</td></tr><tr><td>cachecoin</td><td>CacheCoin</td></tr><tr><td>orbitcoin</td><td>Orbitcoin</td></tr><tr><td>omni</td><td>Omni</td></tr><tr><td>diamond</td><td>Diamond</td></tr><tr><td>bitbar</td><td>BitBar</td></tr><tr><td>crtcoin</td><td>CRTCoin</td></tr></table></div>\n",
       "    <br />(rows: 248, time: 1.1s,    43KB processed, job: job_nC-hRVCf7-JaDITkgye6od32jayS)<br />\n",
       "    <script src=\"/static/components/requirejs/require.js\"></script>\n",
       "    <script>\n",
       "      require.config({\n",
       "        paths: {\n",
       "          base: '/static/base',\n",
       "          d3: '//cdnjs.cloudflare.com/ajax/libs/d3/3.4.13/d3',\n",
       "          plotly: 'https://cdn.plot.ly/plotly-1.5.1.min.js?noext',\n",
       "          jquery: '//ajax.googleapis.com/ajax/libs/jquery/2.0.0/jquery.min'\n",
       "        },\n",
       "        map: {\n",
       "          '*': {\n",
       "            datalab: 'nbextensions/gcpdatalab'\n",
       "          }\n",
       "        },\n",
       "        shim: {\n",
       "          plotly: {\n",
       "            deps: ['d3', 'jquery'],\n",
       "            exports: 'plotly'\n",
       "          }\n",
       "        }\n",
       "      });\n",
       "\n",
       "      require(['datalab/charting', 'datalab/element!12_152334486617', 'base/js/events',\n",
       "          'datalab/style!/nbextensions/gcpdatalab/charting.css'],\n",
       "        function(charts, dom, events) {\n",
       "          charts.render('gcharts', dom, events, 'paged_table', [], {\"cols\": [{\"label\": \"id\", \"type\": \"string\", \"id\": \"id\"}, {\"label\": \"name\", \"type\": \"string\", \"id\": \"name\"}], \"rows\": [{\"c\": [{\"v\": \"sydpak\"}, {\"v\": \"SydPak\"}]}, {\"c\": [{\"v\": \"torcoin-tor\"}, {\"v\": \"Torcoin\"}]}, {\"c\": [{\"v\": \"sixeleven\"}, {\"v\": \"SixEleven\"}]}, {\"c\": [{\"v\": \"ccminer\"}, {\"v\": \"CCMiner\"}]}, {\"c\": [{\"v\": \"giga-watt-token\"}, {\"v\": \"Giga Watt Token\"}]}, {\"c\": [{\"v\": \"starcredits\"}, {\"v\": \"StarCredits\"}]}, {\"c\": [{\"v\": \"triaconta\"}, {\"v\": \"Triaconta\"}]}, {\"c\": [{\"v\": \"magnum\"}, {\"v\": \"Magnum\"}]}, {\"c\": [{\"v\": \"zozocoin\"}, {\"v\": \"ZoZoCoin\"}]}, {\"c\": [{\"v\": \"anoncoin\"}, {\"v\": \"Anoncoin\"}]}, {\"c\": [{\"v\": \"bitgem\"}, {\"v\": \"Bitgem\"}]}, {\"c\": [{\"v\": \"bullion\"}, {\"v\": \"Bullion\"}]}, {\"c\": [{\"v\": \"novacoin\"}, {\"v\": \"Novacoin\"}]}, {\"c\": [{\"v\": \"counterparty\"}, {\"v\": \"Counterparty\"}]}, {\"c\": [{\"v\": \"elacoin\"}, {\"v\": \"Elacoin\"}]}, {\"c\": [{\"v\": \"unobtanium\"}, {\"v\": \"Unobtanium\"}]}, {\"c\": [{\"v\": \"mincoin\"}, {\"v\": \"Mincoin\"}]}, {\"c\": [{\"v\": \"ronpaulcoin\"}, {\"v\": \"RonPaulCoin\"}]}, {\"c\": [{\"v\": \"42-coin\"}, {\"v\": \"42-coin\"}]}, {\"c\": [{\"v\": \"cachecoin\"}, {\"v\": \"CacheCoin\"}]}, {\"c\": [{\"v\": \"orbitcoin\"}, {\"v\": \"Orbitcoin\"}]}, {\"c\": [{\"v\": \"omni\"}, {\"v\": \"Omni\"}]}, {\"c\": [{\"v\": \"diamond\"}, {\"v\": \"Diamond\"}]}, {\"c\": [{\"v\": \"bitbar\"}, {\"v\": \"BitBar\"}]}, {\"c\": [{\"v\": \"crtcoin\"}, {\"v\": \"CRTCoin\"}]}]},\n",
       "            {\n",
       "              pageSize: 25,\n",
       "              cssClassNames:  {\n",
       "                tableRow: 'gchart-table-row',\n",
       "                headerRow: 'gchart-table-headerrow',\n",
       "                oddTableRow: 'gchart-table-oddrow',\n",
       "                selectedTableRow: 'gchart-table-selectedrow',\n",
       "                hoverTableRow: 'gchart-table-hoverrow',\n",
       "                tableCell: 'gchart-table-cell',\n",
       "                headerCell: 'gchart-table-headercell',\n",
       "                rowNumberCell: 'gchart-table-rownumcell'\n",
       "              }\n",
       "            },\n",
       "            {source_index: 11, fields: 'id,name'},\n",
       "            0,\n",
       "            248);\n",
       "        }\n",
       "      );\n",
       "    </script>\n",
       "  "
      ],
      "text/plain": [
       "QueryResultsTable job_nC-hRVCf7-JaDITkgye6od32jayS"
      ]
     },
     "execution_count": 19,
     "metadata": {},
     "output_type": "execute_result"
    }
   ],
   "source": [
    "%%bq query\n",
    "-- 3.\tWhich coins have an available supply less than $5M? -- the result shows only 25 and paginates for the remaining ones\n",
    "select id, name from caserta_crypto_store.crypto_store where available_supply < 5000000;"
   ]
  },
  {
   "cell_type": "code",
   "execution_count": 30,
   "metadata": {
    "collapsed": false
   },
   "outputs": [
    {
     "data": {
      "text/html": [
       "\n",
       "    <div class=\"bqtv\" id=\"17_152334519109\"><table><tr><th>id</th><th>name</th><th>percent_change_7d</th></tr><tr><td>hexx</td><td>Hexx</td><td>689.53</td></tr><tr><td>rabbitcoin</td><td>RabbitCoin</td><td>361.92</td></tr><tr><td>credence-coin</td><td>Credence Coin</td><td>311.12</td></tr><tr><td>protean</td><td>Protean</td><td>251.92</td></tr><tr><td>xtd-coin</td><td>XTD Coin</td><td>205.87</td></tr></table></div>\n",
       "    <br />(rows: 5, time: 0.9s,    45KB processed, job: job_jG94wpRUFQe6nMt2fTMX36fnHKLU)<br />\n",
       "    <script src=\"/static/components/requirejs/require.js\"></script>\n",
       "    <script>\n",
       "      require.config({\n",
       "        paths: {\n",
       "          base: '/static/base',\n",
       "          d3: '//cdnjs.cloudflare.com/ajax/libs/d3/3.4.13/d3',\n",
       "          plotly: 'https://cdn.plot.ly/plotly-1.5.1.min.js?noext',\n",
       "          jquery: '//ajax.googleapis.com/ajax/libs/jquery/2.0.0/jquery.min'\n",
       "        },\n",
       "        map: {\n",
       "          '*': {\n",
       "            datalab: 'nbextensions/gcpdatalab'\n",
       "          }\n",
       "        },\n",
       "        shim: {\n",
       "          plotly: {\n",
       "            deps: ['d3', 'jquery'],\n",
       "            exports: 'plotly'\n",
       "          }\n",
       "        }\n",
       "      });\n",
       "\n",
       "      require(['datalab/charting', 'datalab/element!17_152334519109', 'base/js/events',\n",
       "          'datalab/style!/nbextensions/gcpdatalab/charting.css'],\n",
       "        function(charts, dom, events) {\n",
       "          charts.render('gcharts', dom, events, 'table', [], {\"cols\": [{\"label\": \"id\", \"type\": \"string\", \"id\": \"id\"}, {\"label\": \"name\", \"type\": \"string\", \"id\": \"name\"}, {\"label\": \"percent_change_7d\", \"type\": \"number\", \"id\": \"percent_change_7d\"}], \"rows\": [{\"c\": [{\"v\": \"hexx\"}, {\"v\": \"Hexx\"}, {\"v\": 689.53}]}, {\"c\": [{\"v\": \"rabbitcoin\"}, {\"v\": \"RabbitCoin\"}, {\"v\": 361.92}]}, {\"c\": [{\"v\": \"credence-coin\"}, {\"v\": \"Credence Coin\"}, {\"v\": 311.12}]}, {\"c\": [{\"v\": \"protean\"}, {\"v\": \"Protean\"}, {\"v\": 251.92}]}, {\"c\": [{\"v\": \"xtd-coin\"}, {\"v\": \"XTD Coin\"}, {\"v\": 205.87}]}]},\n",
       "            {\n",
       "              pageSize: 25,\n",
       "              cssClassNames:  {\n",
       "                tableRow: 'gchart-table-row',\n",
       "                headerRow: 'gchart-table-headerrow',\n",
       "                oddTableRow: 'gchart-table-oddrow',\n",
       "                selectedTableRow: 'gchart-table-selectedrow',\n",
       "                hoverTableRow: 'gchart-table-hoverrow',\n",
       "                tableCell: 'gchart-table-cell',\n",
       "                headerCell: 'gchart-table-headercell',\n",
       "                rowNumberCell: 'gchart-table-rownumcell'\n",
       "              }\n",
       "            },\n",
       "            {source_index: 16, fields: 'id,name,percent_change_7d'},\n",
       "            0,\n",
       "            5);\n",
       "        }\n",
       "      );\n",
       "    </script>\n",
       "  "
      ],
      "text/plain": [
       "QueryResultsTable job_jG94wpRUFQe6nMt2fTMX36fnHKLU"
      ]
     },
     "execution_count": 30,
     "metadata": {},
     "output_type": "execute_result"
    }
   ],
   "source": [
    "%%bq query\n",
    "-- 4.\tWhich 5 coins have seen the greatest percentage growth in the last week?\n",
    "select id, name, percent_change_7d from caserta_crypto_store.crypto_store where percent_change_7d is not null order by percent_change_7d desc limit 5;"
   ]
  },
  {
   "cell_type": "code",
   "execution_count": 35,
   "metadata": {
    "collapsed": false
   },
   "outputs": [
    {
     "data": {
      "text/html": [
       "\n",
       "    <div class=\"bqtv\" id=\"21_152334534471\"><table><tr><th>f0_</th></tr><tr><td>44</td></tr></table></div>\n",
       "    <br />(rows: 1, time: 0.9s,    16KB processed, job: job_XFfgmpkgfeaessAhyY3XMgXUmDQJ)<br />\n",
       "    <script src=\"/static/components/requirejs/require.js\"></script>\n",
       "    <script>\n",
       "      require.config({\n",
       "        paths: {\n",
       "          base: '/static/base',\n",
       "          d3: '//cdnjs.cloudflare.com/ajax/libs/d3/3.4.13/d3',\n",
       "          plotly: 'https://cdn.plot.ly/plotly-1.5.1.min.js?noext',\n",
       "          jquery: '//ajax.googleapis.com/ajax/libs/jquery/2.0.0/jquery.min'\n",
       "        },\n",
       "        map: {\n",
       "          '*': {\n",
       "            datalab: 'nbextensions/gcpdatalab'\n",
       "          }\n",
       "        },\n",
       "        shim: {\n",
       "          plotly: {\n",
       "            deps: ['d3', 'jquery'],\n",
       "            exports: 'plotly'\n",
       "          }\n",
       "        }\n",
       "      });\n",
       "\n",
       "      require(['datalab/charting', 'datalab/element!21_152334534471', 'base/js/events',\n",
       "          'datalab/style!/nbextensions/gcpdatalab/charting.css'],\n",
       "        function(charts, dom, events) {\n",
       "          charts.render('gcharts', dom, events, 'table', [], {\"cols\": [{\"label\": \"f0_\", \"type\": \"number\", \"id\": \"f0_\"}], \"rows\": [{\"c\": [{\"v\": 44}]}]},\n",
       "            {\n",
       "              pageSize: 25,\n",
       "              cssClassNames:  {\n",
       "                tableRow: 'gchart-table-row',\n",
       "                headerRow: 'gchart-table-headerrow',\n",
       "                oddTableRow: 'gchart-table-oddrow',\n",
       "                selectedTableRow: 'gchart-table-selectedrow',\n",
       "                hoverTableRow: 'gchart-table-hoverrow',\n",
       "                tableCell: 'gchart-table-cell',\n",
       "                headerCell: 'gchart-table-headercell',\n",
       "                rowNumberCell: 'gchart-table-rownumcell'\n",
       "              }\n",
       "            },\n",
       "            {source_index: 20, fields: 'f0_'},\n",
       "            0,\n",
       "            1);\n",
       "        }\n",
       "      );\n",
       "    </script>\n",
       "  "
      ],
      "text/plain": [
       "QueryResultsTable job_XFfgmpkgfeaessAhyY3XMgXUmDQJ"
      ]
     },
     "execution_count": 35,
     "metadata": {},
     "output_type": "execute_result"
    }
   ],
   "source": [
    "%%bq query\n",
    "-- 5.\tHow many ticker symbols contain the letter \"X\" ?\n",
    "select count(*) from caserta_crypto_store.crypto_store where name like \"%X%\";"
   ]
  }
 ],
 "metadata": {
  "kernelspec": {
   "display_name": "Python 3",
   "language": "python",
   "name": "python3"
  },
  "language_info": {
   "codemirror_mode": {
    "name": "ipython",
    "version": 3
   },
   "file_extension": ".py",
   "mimetype": "text/x-python",
   "name": "python",
   "nbconvert_exporter": "python",
   "pygments_lexer": "ipython3",
   "version": "3.5.5"
  }
 },
 "nbformat": 4,
 "nbformat_minor": 2
}
